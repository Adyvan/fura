{
 "cells": [
  {
   "cell_type": "code",
   "execution_count": null,
   "metadata": {
    "collapsed": true
   },
   "outputs": [],
   "source": [
    "import subprocess\n",
    "import json"
   ]
  },
  {
   "cell_type": "code",
   "execution_count": null,
   "metadata": {},
   "outputs": [],
   "source": [
    "repo_path = \"/Users/testUser/Projects/testProject\"\n",
    "subprocess.Popen([\"./fura --noprogress -r=\"+repo_path], stdout=subprocess.PIPE, shell=True).communicate()"
   ]
  },
  {
   "cell_type": "code",
   "execution_count": null,
   "metadata": {
    "collapsed": true
   },
   "outputs": [],
   "source": [
    "with open('testProject.json') as data_file:    \n",
    "    data = json.load(data_file)"
   ]
  },
  {
   "cell_type": "code",
   "execution_count": null,
   "metadata": {},
   "outputs": [],
   "source": [
    "total_commits = 0\n",
    "added_lines = 0\n",
    "removed_lines = 0\n",
    "\n",
    "for day in data['days']:\n",
    "    for commiter in day['commiters']:\n",
    "        total_commits =  total_commits + commiter['commits_num']\n",
    "        added_lines = added_lines + commiter['added_lines']\n",
    "        removed_lines = removed_lines + commiter['removed_lines']\n",
    "        \n",
    "print(\"Number of commits: {}\".format(total_commits))\n",
    "print(\"Number of added lines: {}\".format(added_lines))\n",
    "print(\"Number of removed lines: {}\".format(removed_lines))"
   ]
  },
  {
   "cell_type": "code",
   "execution_count": null,
   "metadata": {
    "collapsed": true
   },
   "outputs": [],
   "source": []
  }
 ],
 "metadata": {
  "kernelspec": {
   "display_name": "Python 3",
   "language": "python",
   "name": "python3"
  },
  "language_info": {
   "codemirror_mode": {
    "name": "ipython",
    "version": 3
   },
   "file_extension": ".py",
   "mimetype": "text/x-python",
   "name": "python",
   "nbconvert_exporter": "python",
   "pygments_lexer": "ipython3",
   "version": "3.6.2"
  }
 },
 "nbformat": 4,
 "nbformat_minor": 2
}
