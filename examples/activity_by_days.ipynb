{
 "cells": [
  {
   "cell_type": "code",
   "execution_count": null,
   "metadata": {
    "collapsed": true
   },
   "outputs": [],
   "source": [
    "import subprocess\n",
    "import json\n",
    "import time\n",
    "\n",
    "import matplotlib.pyplot as plt\n",
    "import numpy\n",
    "%matplotlib inline  "
   ]
  },
  {
   "cell_type": "code",
   "execution_count": null,
   "metadata": {},
   "outputs": [],
   "source": [
    "repo_path = \"/Users/testUser/Projects/testProject\"\n",
    "command = \"./fura --noprogress -r={}\".format(repo_path)\n",
    "subprocess.Popen([command], stdout=subprocess.PIPE, shell=True).communicate()"
   ]
  },
  {
   "cell_type": "code",
   "execution_count": null,
   "metadata": {
    "collapsed": true
   },
   "outputs": [],
   "source": [
    "with open(\"testProject.json\") as data_file:    \n",
    "    data = json.load(data_file)"
   ]
  },
  {
   "cell_type": "code",
   "execution_count": null,
   "metadata": {
    "collapsed": true
   },
   "outputs": [],
   "source": [
    "commits_by_day_of_week = {\"Monday\":0, \"Tuesday\":0, \"Wednesday\":0, \"Thursday\":0, \"Friday\":0, \"Saturday\":0, \"Sunday\":0}\n",
    "\n",
    "for day in data[\"days\"]:\n",
    "    epoch = day[\"date\"]\n",
    "    day_of_week = time.strftime('%A', time.localtime(epoch))\n",
    "    \n",
    "    total_commits = 0\n",
    "    for commiter in day[\"commiters\"]:\n",
    "        total_commits = total_commits + commiter[\"commits_num\"]\n",
    "    \n",
    "    if day_of_week not in commits_by_day_of_week:\n",
    "        commits_by_day_of_week[day_of_week] = 0\n",
    "    \n",
    "    commits_by_day_of_week[day_of_week] = commits_by_day_of_week[day_of_week] + total_commits"
   ]
  },
  {
   "cell_type": "code",
   "execution_count": null,
   "metadata": {
    "collapsed": true
   },
   "outputs": [],
   "source": [
    "X = list(commits_by_day_of_week.keys())\n",
    "Y = list(commits_by_day_of_week.values())\n",
    "x_pos = numpy.arange(len(X))"
   ]
  },
  {
   "cell_type": "code",
   "execution_count": null,
   "metadata": {},
   "outputs": [],
   "source": [
    "fig, ax = plt.subplots()\n",
    "ax.barh(x_pos, Y, align='center',\n",
    "        color='green', ecolor='black')\n",
    "ax.set_yticks(x_pos)\n",
    "ax.set_yticklabels(X)\n",
    "ax.set_xlabel('Commits')\n",
    "ax.invert_yaxis()"
   ]
  },
  {
   "cell_type": "code",
   "execution_count": null,
   "metadata": {
    "collapsed": true
   },
   "outputs": [],
   "source": []
  }
 ],
 "metadata": {
  "kernelspec": {
   "display_name": "Python 3",
   "language": "python",
   "name": "python3"
  },
  "language_info": {
   "codemirror_mode": {
    "name": "ipython",
    "version": 3
   },
   "file_extension": ".py",
   "mimetype": "text/x-python",
   "name": "python",
   "nbconvert_exporter": "python",
   "pygments_lexer": "ipython3",
   "version": "3.6.2"
  }
 },
 "nbformat": 4,
 "nbformat_minor": 2
}
