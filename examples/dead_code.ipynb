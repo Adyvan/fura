{
 "cells": [
  {
   "cell_type": "code",
   "execution_count": null,
   "metadata": {
    "collapsed": true
   },
   "outputs": [],
   "source": [
    "import subprocess\n",
    "import json"
   ]
  },
  {
   "cell_type": "code",
   "execution_count": null,
   "metadata": {},
   "outputs": [],
   "source": [
    "repo_path = \"/Users/testUser/Projects/testProject\"\n",
    "command = \"./fura --noprogress -r={}\".format(repo_path)\n",
    "subprocess.Popen([command], stdout=subprocess.PIPE, shell=True).communicate()"
   ]
  },
  {
   "cell_type": "code",
   "execution_count": null,
   "metadata": {
    "collapsed": true
   },
   "outputs": [],
   "source": [
    "with open(\"testProject.json\") as data_file:    \n",
    "    data = json.load(data_file)"
   ]
  },
  {
   "cell_type": "code",
   "execution_count": null,
   "metadata": {
    "collapsed": true
   },
   "outputs": [],
   "source": [
    "prod_branches = [\"master\"]\n",
    "\n",
    "dead_commits_map = {} #key -> commiter email, value -> array of dead commits\n",
    "total_commits_map = {} #ket -> commiter email, value -> total num of commits\n",
    "\n",
    "for day in data[\"days\"]:\n",
    "    for commiter in day[\"commiters\"]:\n",
    "        if commiter[\"email\"] not in total_commits_map:\n",
    "            total_commits_map[commiter[\"email\"]] = 0\n",
    "        total_commits_map[commiter[\"email\"]] = total_commits_map[commiter[\"email\"]] + len(commiter[\"commits\"])\n",
    "        for commit in commiter[\"commits\"]:\n",
    "            if(\"branches\" not in commit):\n",
    "                continue\n",
    "            \n",
    "            is_commit_alive = False\n",
    "        \n",
    "            for branch in commit[\"branches\"]:\n",
    "                if branch in prod_branches:\n",
    "                    is_commit_alive = True\n",
    "            \n",
    "            if commiter[\"email\"] not in dead_commits_map:\n",
    "                dead_commits_map[commiter[\"email\"]] = []\n",
    "            \n",
    "            if not is_commit_alive:\n",
    "                dead_commits_map[commiter[\"email\"]].append(commit)"
   ]
  },
  {
   "cell_type": "code",
   "execution_count": null,
   "metadata": {},
   "outputs": [],
   "source": [
    "for email in dead_commits_map:\n",
    "    n_dead_commits = len(dead_commits_map[email])\n",
    "    n_total_commits = total_commits_map[email]\n",
    "    percent_of_dead_commits = round((n_dead_commits / n_total_commits), 2) * 100\n",
    "    print(\"{} Number of dead commits: {} of {} percent {}%\".format(email,\n",
    "                                                           n_dead_commits,\n",
    "                                                            n_total_commits,\n",
    "                                                                percent_of_dead_commits\n",
    "                                                                  ))"
   ]
  },
  {
   "cell_type": "code",
   "execution_count": null,
   "metadata": {
    "collapsed": true
   },
   "outputs": [],
   "source": []
  },
  {
   "cell_type": "code",
   "execution_count": null,
   "metadata": {
    "collapsed": true
   },
   "outputs": [],
   "source": []
  }
 ],
 "metadata": {
  "kernelspec": {
   "display_name": "Python 3",
   "language": "python",
   "name": "python3"
  },
  "language_info": {
   "codemirror_mode": {
    "name": "ipython",
    "version": 3
   },
   "file_extension": ".py",
   "mimetype": "text/x-python",
   "name": "python",
   "nbconvert_exporter": "python",
   "pygments_lexer": "ipython3",
   "version": "3.6.2"
  }
 },
 "nbformat": 4,
 "nbformat_minor": 2
}
