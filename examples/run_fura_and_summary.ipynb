{
 "cells": [
  {
   "cell_type": "code",
   "execution_count": 1,
   "metadata": {
    "collapsed": true
   },
   "outputs": [],
   "source": [
    "import subprocess\n",
    "import json"
   ]
  },
  {
   "cell_type": "code",
   "execution_count": 2,
   "metadata": {},
   "outputs": [
    {
     "data": {
      "text/plain": [
       "(b'open /dev/tty: device not configured\\n2017/09/29 16:27:04 /Users/vadimpisaruk/Projects/Riseup/Welcome\\n2017/09/29 16:27:05 [ERROR] Service:(Scan service) Error: repository not exists\\n',\n",
       " None)"
      ]
     },
     "execution_count": 2,
     "metadata": {},
     "output_type": "execute_result"
    }
   ],
   "source": [
    "repo_path = \"/Users/vadimpisaruk/Projects/Riseup/Welcome\"\n",
    "subprocess.Popen([\"./fura --noprogress -r=\"+repo_path], stdout=subprocess.PIPE, shell=True).communicate()"
   ]
  },
  {
   "cell_type": "code",
   "execution_count": 3,
   "metadata": {
    "collapsed": true
   },
   "outputs": [],
   "source": [
    "with open('react.json') as data_file:    \n",
    "    data = json.load(data_file)"
   ]
  },
  {
   "cell_type": "code",
   "execution_count": 4,
   "metadata": {},
   "outputs": [
    {
     "name": "stdout",
     "output_type": "stream",
     "text": [
      "Number of commits: 10642\n",
      "Number of added lines: 1485310\n",
      "Number of removed lines: 1182386\n"
     ]
    }
   ],
   "source": [
    "total_commits = 0\n",
    "added_lines = 0\n",
    "removed_lines = 0\n",
    "\n",
    "for day in data['days']:\n",
    "    for commiter in day['commiters']:\n",
    "        total_commits =  total_commits + commiter['commits_num']\n",
    "        added_lines = added_lines + commiter['added_lines']\n",
    "        removed_lines = removed_lines + commiter['removed_lines']\n",
    "        \n",
    "print(\"Number of commits: {}\".format(total_commits))\n",
    "print(\"Number of added lines: {}\".format(added_lines))\n",
    "print(\"Number of removed lines: {}\".format(removed_lines))"
   ]
  },
  {
   "cell_type": "code",
   "execution_count": null,
   "metadata": {
    "collapsed": true
   },
   "outputs": [],
   "source": []
  }
 ],
 "metadata": {
  "kernelspec": {
   "display_name": "Python 3",
   "language": "python",
   "name": "python3"
  },
  "language_info": {
   "codemirror_mode": {
    "name": "ipython",
    "version": 3
   },
   "file_extension": ".py",
   "mimetype": "text/x-python",
   "name": "python",
   "nbconvert_exporter": "python",
   "pygments_lexer": "ipython3",
   "version": "3.6.2"
  }
 },
 "nbformat": 4,
 "nbformat_minor": 2
}
